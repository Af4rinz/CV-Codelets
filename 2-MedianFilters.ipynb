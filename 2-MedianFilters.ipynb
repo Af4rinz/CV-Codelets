{
 "cells": [
  {
   "cell_type": "markdown",
   "metadata": {},
   "source": [
    "%%latex\n",
    "\\tableofcontents"
   ]
  },
  {
   "cell_type": "markdown",
   "metadata": {},
   "source": [
    "# Preparations"
   ]
  },
  {
   "cell_type": "code",
   "execution_count": null,
   "metadata": {},
   "outputs": [],
   "source": [
    "import matplotlib.pyplot as plt\n",
    "import numpy as np\n",
    "from matplotlib.pyplot import imshow\n",
    "# qt backend for interactive windows\n",
    "%matplotlib qt "
   ]
  },
  {
   "cell_type": "code",
   "execution_count": null,
   "metadata": {},
   "outputs": [],
   "source": [
    "# ENV_NAME = 'colab'\n",
    "ENV_NAME = 'local'\n",
    "path_prefix = {'colab': '/content/drive/MyDrive/ComputerVision/CV-Phase1/', \n",
    "                'local': './Images/'}"
   ]
  },
  {
   "cell_type": "markdown",
   "metadata": {
    "id": "DW4owAmeKFr-"
   },
   "source": [
    "Open image using pyplot:"
   ]
  },
  {
   "cell_type": "code",
   "execution_count": null,
   "metadata": {
    "id": "DBaUbqGUUOJt"
   },
   "outputs": [],
   "source": [
    "def loadImage(name, path_prefix=path_prefix[ENV_NAME]):\n",
    "  image = plt.imread(path_prefix + name)\n",
    "  print(image.shape)\n",
    "  print(type(image))\n",
    "  return image"
   ]
  },
  {
   "cell_type": "code",
   "execution_count": null,
   "metadata": {},
   "outputs": [],
   "source": []
  }
 ],
 "metadata": {
  "interpreter": {
   "hash": "b3ba2566441a7c06988d0923437866b63cedc61552a5af99d1f4fb67d367b25f"
  },
  "kernelspec": {
   "display_name": "Python 3.7.1 64-bit ('base': conda)",
   "name": "python3"
  },
  "language_info": {
   "name": "python",
   "version": "3.7.1"
  },
  "orig_nbformat": 4
 },
 "nbformat": 4,
 "nbformat_minor": 2
}
