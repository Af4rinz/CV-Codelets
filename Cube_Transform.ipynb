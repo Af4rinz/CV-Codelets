{
  "nbformat": 4,
  "nbformat_minor": 0,
  "metadata": {
    "colab": {
      "name": "Cube-Transform.ipynub",
      "provenance": [],
      "authorship_tag": "ABX9TyOhrmbXzZ4/W0j0RIsTldwI",
      "include_colab_link": true
    },
    "kernelspec": {
      "name": "python3",
      "display_name": "Python 3"
    },
    "language_info": {
      "name": "python"
    }
  },
  "cells": [
    {
      "cell_type": "markdown",
      "metadata": {
        "id": "view-in-github",
        "colab_type": "text"
      },
      "source": [
        "<a href=\"https://colab.research.google.com/github/Af4rinz/CV-Codelets/blob/main/Cube_Transform.ipynb\" target=\"_parent\"><img src=\"https://colab.research.google.com/assets/colab-badge.svg\" alt=\"Open In Colab\"/></a>"
      ]
    },
    {
      "cell_type": "markdown",
      "metadata": {
        "id": "PdRunGSkD6Vt"
      },
      "source": [
        "# Image Mapping to a Cube Using Affine Transforms\n"
      ]
    },
    {
      "cell_type": "code",
      "metadata": {
        "id": "oaGk78nNDzWD"
      },
      "source": [
        ""
      ],
      "execution_count": null,
      "outputs": []
    }
  ]
}